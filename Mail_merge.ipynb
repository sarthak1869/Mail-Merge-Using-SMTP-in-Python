{
 "cells": [
  {
   "cell_type": "code",
   "execution_count": null,
   "id": "16f5ecb9-7481-42cf-b381-113e05e5e13f",
   "metadata": {},
   "outputs": [],
   "source": [
    "!pip install pandas  openpyxl smtplib email\n"
   ]
  },
  {
   "cell_type": "code",
   "execution_count": null,
   "id": "f1e1ad5d-6013-4d6d-8b33-1bbd1cae81f0",
   "metadata": {},
   "outputs": [],
   "source": [
    "import smtplib\n",
    "import pandas as pd\n",
    "from  email.mime.multipart import MIMEMultipart\n",
    "from email.mime.text import MIMEText"
   ]
  },
  {
   "cell_type": "code",
   "execution_count": null,
   "id": "7376c365-be16-4dbc-96cc-fef0365a91f7",
   "metadata": {},
   "outputs": [],
   "source": [
    "smtp_server='smtp.gmail.com'\n",
    "smtp_port=587\n",
    "email_address='your_email@gmail.com\"'\n",
    "email_password='your_app_password'\n"
   ]
  },
  {
   "cell_type": "code",
   "execution_count": null,
   "id": "15198403-fb28-4400-b9c9-94c2366c055a",
   "metadata": {},
   "outputs": [],
   "source": [
    "with open(\"email_temp.txt\", \"r\") as file:\n",
    "    email_template = file.read()"
   ]
  },
  {
   "cell_type": "code",
   "execution_count": null,
   "id": "a7b605a8-5290-4263-9fac-5711ce7fbf3d",
   "metadata": {},
   "outputs": [],
   "source": [
    "df=pd.read_excel('Mail_merge.xlsx')"
   ]
  },
  {
   "cell_type": "code",
   "execution_count": null,
   "id": "0a3d8419-bc6e-4835-bf55-26b976f164c8",
   "metadata": {},
   "outputs": [],
   "source": [
    "df"
   ]
  },
  {
   "cell_type": "code",
   "execution_count": null,
   "id": "58e17ca6-3501-4a17-a9c4-81e8bf28b048",
   "metadata": {},
   "outputs": [],
   "source": [
    "server = smtplib.SMTP(smtp_server, smtp_port)\n",
    "server.starttls()\n",
    "server.login(email_address, email_password)"
   ]
  },
  {
   "cell_type": "code",
   "execution_count": null,
   "id": "cb8aedd2-4162-4289-93b3-10134927accd",
   "metadata": {},
   "outputs": [],
   "source": [
    "for _, row in df.iterrows():\n",
    "    # Replace placeholders with actual values\n",
    "    personalized_email = email_template.replace(\"<<Name>>\", row[\"Name\"]) \\\n",
    "                                       .replace(\"<<Subject>>\", row[\"Subject\"]) \\\n",
    "                                       .replace(\"<<Score>>\", str(row[\"Score\"]))\n",
    "    subject, body = personalized_email.split(\"\\n\", 1)\n",
    "    msg = MIMEMultipart()\n",
    "    msg[\"From\"] = email_address\n",
    "    msg[\"To\"] = row['Email']\n",
    "    msg[\"Subject\"] = subject.replace(\"Subject: \", \"\").strip()\n",
    "    msg.attach(MIMEText(body, \"plain\"))\n",
    "    \n",
    "    server.sendmail(email_address, row['Email'], msg.as_string())\n",
    "    print(f\"Email sent to {row['Email']}\")"
   ]
  },
  {
   "cell_type": "code",
   "execution_count": null,
   "id": "de79a2ef-ff66-491a-993f-e9af9df5966c",
   "metadata": {},
   "outputs": [],
   "source": []
  },
  {
   "cell_type": "code",
   "execution_count": null,
   "id": "bb975690-f578-42ff-aa70-ba8de61a5c1f",
   "metadata": {},
   "outputs": [],
   "source": []
  },
  {
   "cell_type": "code",
   "execution_count": null,
   "id": "4febb38c-7a48-451b-8059-7b3338f5cf61",
   "metadata": {},
   "outputs": [],
   "source": []
  },
  {
   "cell_type": "code",
   "execution_count": null,
   "id": "218439b8-19e4-48ee-b6a6-c6e4c37aa3f6",
   "metadata": {},
   "outputs": [],
   "source": [
    "server.quit()\n",
    "print(\"All emails sent successfully!\")"
   ]
  },
  {
   "cell_type": "code",
   "execution_count": null,
   "id": "6bd03bd2-04da-4250-b39d-50281b28965b",
   "metadata": {},
   "outputs": [],
   "source": []
  }
 ],
 "metadata": {
  "kernelspec": {
   "display_name": "Python 3 (ipykernel)",
   "language": "python",
   "name": "python3"
  },
  "language_info": {
   "codemirror_mode": {
    "name": "ipython",
    "version": 3
   },
   "file_extension": ".py",
   "mimetype": "text/x-python",
   "name": "python",
   "nbconvert_exporter": "python",
   "pygments_lexer": "ipython3",
   "version": "3.12.7"
  }
 },
 "nbformat": 4,
 "nbformat_minor": 5
}
